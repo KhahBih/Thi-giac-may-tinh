{
 "cells": [
  {
   "cell_type": "code",
   "execution_count": 2,
   "id": "ded534e5-5523-49b2-bafb-116a7bdc36cb",
   "metadata": {},
   "outputs": [],
   "source": [
    "from PIL import Image\n",
    "import matplotlib.pyplot as plt"
   ]
  },
  {
   "cell_type": "code",
   "execution_count": 9,
   "id": "7d7da18d-f4ea-4fd6-9659-94c6dbb8a7e8",
   "metadata": {},
   "outputs": [
    {
     "name": "stdout",
     "output_type": "stream",
     "text": [
      "[(302.91558441558425, 391.8376623376622), (366.9285714285713, 177.0844155844154), (938.9155844155841, 327.82467532467524), (1081.3961038961036, 680.9285714285713), (761.3311688311685, 825.4740259740258)]\n"
     ]
    }
   ],
   "source": [
    "imagePath = 'C:\\\\Users\\\\wwwkb\\\\OneDrive\\\\Desktop\\\\test.jpg'\n",
    "#đọc ảnh\n",
    "image = Image.open(imagePath)\n",
    "\n",
    "#Chuyển đổi backend\n",
    "plt.switch_backend('tkagg')\n",
    "\n",
    "#Hiển thị ảnh\n",
    "plt.imshow(image)\n",
    "plt.title(\"Click on the image to select points\")\n",
    "\n",
    "#Dùng hàm ginput để chọn điểm trên ảnh\n",
    "points = plt.ginput(5)\n",
    "print(points)\n",
    "\n",
    "#Hiển thị\n",
    "plt.show()"
   ]
  },
  {
   "cell_type": "code",
   "execution_count": 11,
   "id": "da0e1611-c1c6-4be7-826e-2784b7aa054b",
   "metadata": {},
   "outputs": [],
   "source": [
    "#Vẽ lại các điểm = dấu * màu đỏ\n",
    "plt.close()\n",
    "\n",
    "#Vẽ lại\n",
    "plt.imshow(image)\n",
    "for point in points:\n",
    "    x, y = point\n",
    "    plt.plot(x, y, 'r*')\n",
    "\n",
    "plt.show()"
   ]
  }
 ],
 "metadata": {
  "kernelspec": {
   "display_name": "Python 3 (ipykernel)",
   "language": "python",
   "name": "python3"
  },
  "language_info": {
   "codemirror_mode": {
    "name": "ipython",
    "version": 3
   },
   "file_extension": ".py",
   "mimetype": "text/x-python",
   "name": "python",
   "nbconvert_exporter": "python",
   "pygments_lexer": "ipython3",
   "version": "3.12.4"
  }
 },
 "nbformat": 4,
 "nbformat_minor": 5
}
