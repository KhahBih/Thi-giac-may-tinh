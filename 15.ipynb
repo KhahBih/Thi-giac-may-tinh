{
 "cells": [
  {
   "cell_type": "code",
   "execution_count": 3,
   "id": "59dcf022-27fa-40eb-96e9-3448a1104ddb",
   "metadata": {},
   "outputs": [],
   "source": [
    "#!pip install scipy"
   ]
  },
  {
   "cell_type": "code",
   "execution_count": 5,
   "id": "a640804b-624a-4312-b126-bf8fdb144314",
   "metadata": {},
   "outputs": [],
   "source": [
    "from scipy import linalg\n",
    "import numpy as np"
   ]
  },
  {
   "cell_type": "code",
   "execution_count": 9,
   "id": "374d567e-b75c-4bfd-8880-291c057ab984",
   "metadata": {},
   "outputs": [
    {
     "name": "stdout",
     "output_type": "stream",
     "text": [
      "Kết quả:  [ 3. -1.]\n"
     ]
    }
   ],
   "source": [
    "#Định nghĩa hệ phương trình tuyến tính\n",
    "A = np.array([[2,1], [3,2]])\n",
    "b = np.array([5,7])\n",
    "#Giai hệ phương trình\n",
    "x = linalg.solve(A, b)\n",
    "print(\"Kết quả: \", x)"
   ]
  },
  {
   "cell_type": "code",
   "execution_count": 13,
   "id": "07c1011c-e1f4-41ab-98a0-9b38384f8e1f",
   "metadata": {},
   "outputs": [
    {
     "name": "stdout",
     "output_type": "stream",
     "text": [
      "Tích phân f(x) từ 0 -> 1:  (1.8333333333333335, 2.0354088784794538e-14)\n"
     ]
    }
   ],
   "source": [
    "#Tính tích phân của 1 hàm số\n",
    "from scipy import integrate\n",
    "#Định nghĩa f(x) = x^2\n",
    "def my_function(x):\n",
    "    return x**2+x+1;\n",
    "\n",
    "#Tính tích phân của f(x) từ 0 -> 1\n",
    "integrate = integrate.quad(my_function, 0, 1);\n",
    "print(\"Tích phân f(x) từ 0 -> 1: \", integrate)"
   ]
  },
  {
   "cell_type": "code",
   "execution_count": 15,
   "id": "e0e3f9c6-acf0-4d95-9dcf-9d7fc8e29029",
   "metadata": {},
   "outputs": [
    {
     "name": "stdout",
     "output_type": "stream",
     "text": [
      "Giá trị riêng:  [3.73205081+0.j 0.26794919+0.j]\n",
      "Vector riêng:  [[ 0.5       -0.5      ]\n",
      " [ 0.8660254  0.8660254]]\n"
     ]
    }
   ],
   "source": [
    "from scipy import linalg\n",
    "import numpy as np\n",
    "\n",
    "# Tính giá trị riêng và vector riêng của một ma trận:\n",
    "A = np.array([[2,1], [3,2]])\n",
    "\n",
    "# Tính giá trị riêng và vector riêng\n",
    "evals, evecs = linalg.eig(A)\n",
    "\n",
    "print(\"Giá trị riêng: \", evals)\n",
    "print(\"Vector riêng: \", evecs)"
   ]
  },
  {
   "cell_type": "code",
   "execution_count": null,
   "id": "584f6de1-e43a-423f-9a8c-9394e061d6f5",
   "metadata": {},
   "outputs": [],
   "source": []
  }
 ],
 "metadata": {
  "kernelspec": {
   "display_name": "Python 3 (ipykernel)",
   "language": "python",
   "name": "python3"
  },
  "language_info": {
   "codemirror_mode": {
    "name": "ipython",
    "version": 3
   },
   "file_extension": ".py",
   "mimetype": "text/x-python",
   "name": "python",
   "nbconvert_exporter": "python",
   "pygments_lexer": "ipython3",
   "version": "3.12.4"
  }
 },
 "nbformat": 4,
 "nbformat_minor": 5
}
