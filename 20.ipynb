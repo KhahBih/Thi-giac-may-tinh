{
 "cells": [
  {
   "cell_type": "code",
   "execution_count": 2,
   "id": "b2a1f7c7-1665-4963-8432-c1cf5f3b8560",
   "metadata": {},
   "outputs": [],
   "source": [
    "import cv2\n",
    "import numpy as np"
   ]
  },
  {
   "cell_type": "code",
   "execution_count": 4,
   "id": "e1c39a3d-44d4-414a-b971-8090c033ff8c",
   "metadata": {},
   "outputs": [],
   "source": [
    "def display(title, img):\n",
    "    cv2.imshow(title, img)\n",
    "    # Chờ một khoảng thời gian\n",
    "    cv2.waitKey(0)\n",
    "    # Đóng window\n",
    "    cv2.destroyWindow(title)"
   ]
  },
  {
   "cell_type": "code",
   "execution_count": null,
   "id": "b7996f3a-fc8f-4726-b0dc-d1b964682a3f",
   "metadata": {},
   "outputs": [],
   "source": [
    "img =  np.zeros((400, 400, 3), dtype=np.uint8)\n",
    "display('Image', img)"
   ]
  },
  {
   "cell_type": "code",
   "execution_count": null,
   "id": "85a82fc1-7792-41bb-9d85-626b0543adf4",
   "metadata": {},
   "outputs": [],
   "source": [
    "# Vẽ đường thẳng\n",
    "cv2.line(img, (50, 50) , (350, 50), (0,0,255), 2)\n",
    "display('Image', img)"
   ]
  },
  {
   "cell_type": "code",
   "execution_count": null,
   "id": "7b154d6d-9feb-4cb8-b14e-2937e68a1263",
   "metadata": {},
   "outputs": [],
   "source": [
    "# Vẽ hình tròn\n",
    "cv2.circle(img, (100,100), 50, (0, 255, 0), -1)\n",
    "display('Image', img)"
   ]
  },
  {
   "cell_type": "code",
   "execution_count": null,
   "id": "d5e1cd14-a3c5-4f60-a0d0-80f243543280",
   "metadata": {},
   "outputs": [],
   "source": [
    "# Vẽ hình chữ nhật\n",
    "cv2.rectangle(img, (100,100),(300,300), (255, 0, 0), -1)\n",
    "display('Image', img)"
   ]
  },
  {
   "cell_type": "code",
   "execution_count": null,
   "id": "88a4637f-0263-4e52-9196-c910498335de",
   "metadata": {},
   "outputs": [],
   "source": [
    "# Ghi text trên hình ảnh\n",
    "content = 'Khanh Binh'\n",
    "font = cv2.FONT_HERSHEY_SIMPLEX\n",
    "cv2.putText(img, content, (10, 380), font, 0.6, (255, 255, 255), 2)\n",
    "display('Image', img)"
   ]
  },
  {
   "cell_type": "code",
   "execution_count": null,
   "id": "b131a696-0da9-4c1e-9872-5c821ab15b4c",
   "metadata": {},
   "outputs": [],
   "source": []
  }
 ],
 "metadata": {
  "kernelspec": {
   "display_name": "Python 3 (ipykernel)",
   "language": "python",
   "name": "python3"
  },
  "language_info": {
   "codemirror_mode": {
    "name": "ipython",
    "version": 3
   },
   "file_extension": ".py",
   "mimetype": "text/x-python",
   "name": "python",
   "nbconvert_exporter": "python",
   "pygments_lexer": "ipython3",
   "version": "3.12.4"
  }
 },
 "nbformat": 4,
 "nbformat_minor": 5
}
